{
 "cells": [
  {
   "cell_type": "markdown",
   "id": "lesser-style",
   "metadata": {},
   "source": [
    "# LIBRERIAS\n"
   ]
  },
  {
   "cell_type": "markdown",
   "id": "natural-argument",
   "metadata": {},
   "source": [
    "Podemos importar operaciones u otras funciones desde una \"librería\" (en español se ha vuelto más común hablar de librerías, aunque la traducción correcta de library es biblioteca)."
   ]
  },
  {
   "cell_type": "code",
   "execution_count": 25,
   "id": "modern-technique",
   "metadata": {},
   "outputs": [
    {
     "name": "stdout",
     "output_type": "stream",
     "text": [
      "1\n",
      "3\n"
     ]
    }
   ],
   "source": [
    "x = min(1, 2, 3)\n",
    "y = max(1, 2, 3)\n",
    "\n",
    "print(x)\n",
    "print(y)"
   ]
  },
  {
   "cell_type": "code",
   "execution_count": 23,
   "id": "enhanced-chest",
   "metadata": {},
   "outputs": [
    {
     "name": "stdout",
     "output_type": "stream",
     "text": [
      "64\n"
     ]
    }
   ],
   "source": [
    "# Imprime el valor de 5 potencia de 4 (5 * 5 * 5 * 5):\n",
    "x = pow(4, 3)\n",
    "\n",
    "print(x)"
   ]
  },
  {
   "cell_type": "markdown",
   "id": "incident-management",
   "metadata": {},
   "source": [
    "#### Ejemplo para la importación de la librería math para usar la función raíz cuadrada sqrt."
   ]
  },
  {
   "cell_type": "code",
   "execution_count": 24,
   "id": "covered-relationship",
   "metadata": {},
   "outputs": [
    {
     "name": "stdout",
     "output_type": "stream",
     "text": [
      "8.0\n"
     ]
    }
   ],
   "source": [
    "import math\n",
    "\n",
    "valor = math.sqrt(64)\n",
    "\n",
    "print(valor)"
   ]
  },
  {
   "cell_type": "markdown",
   "id": "auburn-departure",
   "metadata": {},
   "source": [
    "#### Ayuda sobre la función sqrt"
   ]
  },
  {
   "cell_type": "code",
   "execution_count": 3,
   "id": "handled-facial",
   "metadata": {},
   "outputs": [
    {
     "name": "stdout",
     "output_type": "stream",
     "text": [
      "Help on built-in function sqrt in module math:\n",
      "\n",
      "sqrt(x, /)\n",
      "    Return the square root of x.\n",
      "\n"
     ]
    }
   ],
   "source": [
    "help(math.sqrt) "
   ]
  },
  {
   "cell_type": "code",
   "execution_count": 4,
   "id": "considerable-tobacco",
   "metadata": {},
   "outputs": [
    {
     "data": {
      "text/plain": [
       "['__doc__',\n",
       " '__file__',\n",
       " '__loader__',\n",
       " '__name__',\n",
       " '__package__',\n",
       " '__spec__',\n",
       " 'acos',\n",
       " 'acosh',\n",
       " 'asin',\n",
       " 'asinh',\n",
       " 'atan',\n",
       " 'atan2',\n",
       " 'atanh',\n",
       " 'ceil',\n",
       " 'comb',\n",
       " 'copysign',\n",
       " 'cos',\n",
       " 'cosh',\n",
       " 'degrees',\n",
       " 'dist',\n",
       " 'e',\n",
       " 'erf',\n",
       " 'erfc',\n",
       " 'exp',\n",
       " 'expm1',\n",
       " 'fabs',\n",
       " 'factorial',\n",
       " 'floor',\n",
       " 'fmod',\n",
       " 'frexp',\n",
       " 'fsum',\n",
       " 'gamma',\n",
       " 'gcd',\n",
       " 'hypot',\n",
       " 'inf',\n",
       " 'isclose',\n",
       " 'isfinite',\n",
       " 'isinf',\n",
       " 'isnan',\n",
       " 'isqrt',\n",
       " 'ldexp',\n",
       " 'lgamma',\n",
       " 'log',\n",
       " 'log10',\n",
       " 'log1p',\n",
       " 'log2',\n",
       " 'modf',\n",
       " 'nan',\n",
       " 'perm',\n",
       " 'pi',\n",
       " 'pow',\n",
       " 'prod',\n",
       " 'radians',\n",
       " 'remainder',\n",
       " 'sin',\n",
       " 'sinh',\n",
       " 'sqrt',\n",
       " 'tan',\n",
       " 'tanh',\n",
       " 'tau',\n",
       " 'trunc']"
      ]
     },
     "execution_count": 4,
     "metadata": {},
     "output_type": "execute_result"
    }
   ],
   "source": [
    "import math\n",
    "dir(math)           # Lista de funciones"
   ]
  },
  {
   "cell_type": "code",
   "execution_count": null,
   "id": "hairy-football",
   "metadata": {},
   "outputs": [],
   "source": [
    "help(math)          # Ayuda sobre la librería math"
   ]
  },
  {
   "cell_type": "markdown",
   "id": "royal-cancer",
   "metadata": {},
   "source": [
    "#### Ejercicio para la importación de la librería random.\n",
    "Jose y Laura juegan a los dados, y determinaron las siguientes reglas:\n",
    "\n",
    "1. Si sale 1, vuelven a lanzar.\n",
    "2. Si sale 6, quedan empatados.\n",
    "3. Si sale 2 ó 3 gana Jose.\n",
    "4. Si sale 4 ó 5 gana Laura."
   ]
  },
  {
   "cell_type": "code",
   "execution_count": 2,
   "id": "ranking-staff",
   "metadata": {},
   "outputs": [
    {
     "name": "stdout",
     "output_type": "stream",
     "text": [
      "Sacaste un 3\n",
      "Gana Jose\n"
     ]
    }
   ],
   "source": [
    "import random\n",
    "\n",
    "numero = random.randint(1,6)\n",
    "accion={\n",
    "    1: \"Vuelven a lanzar\",\n",
    "    2: \"Gana Jose\",\n",
    "    3: \"Gana Laura\",\n",
    "    4: \"Quedan empatados\"\n",
    "}\n",
    "print(\"Sacaste un {0}\".format(numero))\n",
    "\n",
    "if numero==1:\n",
    "  print(accion.get(1))\n",
    "elif numero==2 or numero==3:\n",
    "  print(accion.get(2))\n",
    "elif numero==4 or numero==5:\n",
    "  print(accion.get(3))\n",
    "else:\n",
    "  print(accion.get(4))"
   ]
  },
  {
   "cell_type": "markdown",
   "id": "suburban-building",
   "metadata": {},
   "source": [
    "## librería datetime\n",
    "ejemplos:"
   ]
  },
  {
   "cell_type": "code",
   "execution_count": 5,
   "id": "lesbian-beast",
   "metadata": {},
   "outputs": [
    {
     "name": "stdout",
     "output_type": "stream",
     "text": [
      "2021-01-30 02:06:05.466105\n"
     ]
    }
   ],
   "source": [
    "import datetime\n",
    "now = datetime.datetime.now()\n",
    "print(now)"
   ]
  },
  {
   "cell_type": "code",
   "execution_count": 28,
   "id": "directed-namibia",
   "metadata": {},
   "outputs": [
    {
     "name": "stdout",
     "output_type": "stream",
     "text": [
      "2021\n",
      "Saturday\n"
     ]
    }
   ],
   "source": [
    "import datetime\n",
    "\n",
    "now = datetime.datetime.now()\n",
    "\n",
    "print(now.year)\n",
    "print(now.strftime(\"%A\"))"
   ]
  },
  {
   "cell_type": "markdown",
   "id": "south-ministry",
   "metadata": {},
   "source": [
    "[Stftime documentacíon](https://docs.python.org/3/library/datetime.html#strftime-and-strptime-format-codes)"
   ]
  },
  {
   "cell_type": "code",
   "execution_count": 29,
   "id": "measured-seattle",
   "metadata": {},
   "outputs": [
    {
     "name": "stdout",
     "output_type": "stream",
     "text": [
      "June\n"
     ]
    }
   ],
   "source": [
    "import datetime\n",
    "\n",
    "fecha_impuesta = datetime.datetime(2018, 6, 1)\n",
    "\n",
    "print(fecha_impuesta.strftime(\"%B\"))"
   ]
  },
  {
   "cell_type": "markdown",
   "id": "pressing-protein",
   "metadata": {},
   "source": [
    "# Librerías de terceros\n",
    "## Librería numpy\n"
   ]
  },
  {
   "cell_type": "code",
   "execution_count": 43,
   "id": "extreme-optimization",
   "metadata": {},
   "outputs": [
    {
     "data": {
      "text/plain": [
       "array([1., 2., 3.])"
      ]
     },
     "execution_count": 43,
     "metadata": {},
     "output_type": "execute_result"
    }
   ],
   "source": [
    "import numpy\n",
    "numpy.sqrt([1,4,9])"
   ]
  },
  {
   "cell_type": "markdown",
   "id": "stainless-difference",
   "metadata": {},
   "source": [
    "#### math\n",
    "Is part of the standard python library. It provides functions for basic mathematical operations as well as some commonly used constants.\n",
    "\n",
    "#### numpy \n",
    "on the other hand is a third party package geared towards scientific computing. It is the defacto package for numerical and vector operations in python. It provides several routines optimized for vector and array computations as a result, is a lot faster for such operations than say just using python lists. See http://www.numpy.org/ for more info."
   ]
  },
  {
   "cell_type": "code",
   "execution_count": 30,
   "id": "soviet-wheat",
   "metadata": {},
   "outputs": [
    {
     "name": "stdout",
     "output_type": "stream",
     "text": [
      "3.141592653589793\n",
      "3.141592653589793\n"
     ]
    }
   ],
   "source": [
    "import math\n",
    "\n",
    "x = math.pi\n",
    "\n",
    "print(x)\n",
    "\n",
    "import numpy\n",
    "\n",
    "x = numpy.pi\n",
    "\n",
    "print(x)"
   ]
  },
  {
   "cell_type": "code",
   "execution_count": 31,
   "id": "controversial-paper",
   "metadata": {},
   "outputs": [
    {
     "name": "stdout",
     "output_type": "stream",
     "text": [
      "[0 1 2 3]\n"
     ]
    }
   ],
   "source": [
    "# Ordena un arreglo de menor a mayor\n",
    "import numpy as np\n",
    "\n",
    "arr = np.array([3, 2, 0, 1])\n",
    "\n",
    "print(np.sort(arr))"
   ]
  },
  {
   "cell_type": "markdown",
   "id": "primary-shakespeare",
   "metadata": {},
   "source": [
    "## Matplotlib \n",
    "Es una librería de visualización de gráficos a bajo nivel."
   ]
  },
  {
   "cell_type": "code",
   "execution_count": 40,
   "id": "declared-texture",
   "metadata": {},
   "outputs": [
    {
     "data": {
      "image/png": "[encoded data removed]",
      "text/plain": [
       "<Figure size 432x288 with 1 Axes>"
      ]
     },
     "metadata": {
      "needs_background": "light"
     },
     "output_type": "display_data"
    }
   ],
   "source": [
    "import matplotlib.pyplot as plt\n",
    "import numpy as np\n",
    "\n",
    "xpoints = np.array([0, 6])\n",
    "ypoints = np.array([0, 250])\n",
    "\n",
    "plt.plot(xpoints, ypoints, \"o\")\n",
    "plt.show()"
   ]
  },
  {
   "cell_type": "code",
   "execution_count": 41,
   "id": "outstanding-humanitarian",
   "metadata": {},
   "outputs": [
    {
     "data": {
      "image/png": "[encoded data removed]",
      "text/plain": [
       "<Figure size 432x288 with 1 Axes>"
      ]
     },
     "metadata": {
      "needs_background": "light"
     },
     "output_type": "display_data"
    }
   ],
   "source": [
    "import matplotlib.pyplot as plt\n",
    "import numpy as np\n",
    "\n",
    "x = np.array([\"A\", \"B\", \"C\", \"D\"])\n",
    "y = np.array([3, 8, 1, 10])\n",
    "\n",
    "plt.bar(x,y)\n",
    "plt.show()"
   ]
  },
  {
   "cell_type": "code",
   "execution_count": 42,
   "id": "starting-buddy",
   "metadata": {},
   "outputs": [
    {
     "data": {
      "image/png": "[encoded data removed]",
      "text/plain": [
       "<Figure size 432x288 with 1 Axes>"
      ]
     },
     "metadata": {
      "needs_background": "light"
     },
     "output_type": "display_data"
    }
   ],
   "source": [
    "import matplotlib\n",
    "import matplotlib.pyplot as plt\n",
    "import numpy as np\n",
    "\n",
    "# Data for plotting\n",
    "t = np.arange(0.0, 2.0, 0.01)\n",
    "s = 1 + np.sin(2 * np.pi * t)\n",
    "\n",
    "fig, ax = plt.subplots()\n",
    "ax.plot(t, s)\n",
    "\n",
    "ax.set(xlabel='time (s)', ylabel='voltage (mV)',\n",
    "       title='About as simple')\n",
    "ax.grid()\n",
    "\n",
    "fig.savefig(\"test.png\")\n",
    "plt.show()"
   ]
  }
 ],
 "metadata": {
  "kernelspec": {
   "display_name": "Python 3",
   "language": "python",
   "name": "python3"
  },
  "language_info": {
   "codemirror_mode": {
    "name": "ipython",
    "version": 3
   },
   "file_extension": ".py",
   "mimetype": "text/x-python",
   "name": "python",
   "nbconvert_exporter": "python",
   "pygments_lexer": "ipython3",
   "version": "3.8.6"
  }
 },
 "nbformat": 4,
 "nbformat_minor": 5
}
