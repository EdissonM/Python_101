{
 "cells": [
  {
   "cell_type": "markdown",
   "id": "lesser-style",
   "metadata": {},
   "source": [
    "# FUNCIONES"
   ]
  },
  {
   "cell_type": "markdown",
   "id": "unavailable-religion",
   "metadata": {},
   "source": [
    "- Una función se define como un bloque de código o secuencia de sentencias, que sólo al llamarse, se ejecuta.\n",
    "\n",
    "- La función recibe los parámetros (datos) y devuelve un resultado.\n"
   ]
  },
  {
   "cell_type": "markdown",
   "id": "beneficial-superior",
   "metadata": {},
   "source": [
    "- Se define usando la palabra clave *def* en su primera línea.\n",
    "\n",
    "- Para llamar a una función, use el nombre de la función seguido de paréntesis:\n",
    "\n",
    "Ejemplo: una función que muestre el anuncio: ¡Mi primera función!, cada vez que se le llame."
   ]
  },
  {
   "cell_type": "code",
   "execution_count": 14,
   "id": "internal-diploma",
   "metadata": {},
   "outputs": [
    {
     "name": "stdout",
     "output_type": "stream",
     "text": [
      "¡Mi primera función!\n"
     ]
    }
   ],
   "source": [
    "def anuncio():\n",
    "   \n",
    "    print('¡Mi primera función!')\n",
    "    return\n",
    "#llamo la función.\n",
    "\n",
    "anuncio()"
   ]
  },
  {
   "cell_type": "markdown",
   "id": "streaming-cream",
   "metadata": {},
   "source": [
    "### Ejemplo de funciones\n",
    "\n",
    "En principio, cualquier ejercicio se puede convertir en un ejercicio de funciones"
   ]
  },
  {
   "cell_type": "markdown",
   "id": "bright-sodium",
   "metadata": {},
   "source": [
    "En este ejercicio visto anteriormente:"
   ]
  },
  {
   "cell_type": "code",
   "execution_count": 2,
   "id": "valid-throw",
   "metadata": {},
   "outputs": [
    {
     "name": "stdout",
     "output_type": "stream",
     "text": [
      "inserte valor de la compra: 2500\n",
      "el valor total es 2975.0\n"
     ]
    }
   ],
   "source": [
    "valor_compra = float (input(\"inserte valor de la compra: \"))\n",
    "valor_iva = (valor_compra * 19) / 100\n",
    "\n",
    "total = valor_compra + valor_iva\n",
    "print (\"el valor total es {0}\".format(total))"
   ]
  },
  {
   "cell_type": "markdown",
   "id": "integral-christianity",
   "metadata": {},
   "source": [
    "Podremos convertirlo a función, de la siguiente manera:\n",
    "\n",
    "Nota: Para permitir que una función devuelva un valor, use *return* declaración:"
   ]
  },
  {
   "cell_type": "code",
   "execution_count": 11,
   "id": "valued-strip",
   "metadata": {},
   "outputs": [
    {
     "data": {
      "text/plain": [
       "2975.0"
      ]
     },
     "execution_count": 11,
     "metadata": {},
     "output_type": "execute_result"
    }
   ],
   "source": [
    "def funcion_compra (valor_compra):\n",
    "  valor_iva = valor_compra*19/100\n",
    "  total = valor_compra + valor_iva\n",
    "    \n",
    "#quiero que me genere el total (con return)\n",
    "\n",
    "  return total\n",
    "\n",
    "#la función recibe el valor: 2500 del parámetro valor_compra definido en la primera línea:\n",
    "funcion_compra(2500)"
   ]
  },
  {
   "cell_type": "markdown",
   "id": "parliamentary-approach",
   "metadata": {},
   "source": [
    "- Puede recibir cualquier tipo de datos (str, int, list...) de parámetro a una función."
   ]
  },
  {
   "cell_type": "code",
   "execution_count": 17,
   "id": "classified-seventh",
   "metadata": {},
   "outputs": [
    {
     "name": "stdout",
     "output_type": "stream",
     "text": [
      "apple\n",
      "banana\n",
      "cherry\n"
     ]
    }
   ],
   "source": [
    "#en este caso el parámetro que recibe es una lista\n",
    "\n",
    "def lista(food):\n",
    "  for i in food:\n",
    "    print(i)\n",
    "\n",
    "fruits = [\"apple\", \"banana\", \"cherry\"]\n",
    "\n",
    "lista(fruits)"
   ]
  },
  {
   "cell_type": "markdown",
   "id": "dried-corner",
   "metadata": {},
   "source": [
    "### Ejercicio 1\n",
    "\n",
    "Escribe una función que dado un número determine si es par o impar."
   ]
  },
  {
   "cell_type": "code",
   "execution_count": 22,
   "id": "novel-scheme",
   "metadata": {},
   "outputs": [
    {
     "data": {
      "text/plain": [
       "'es par'"
      ]
     },
     "execution_count": 22,
     "metadata": {},
     "output_type": "execute_result"
    }
   ],
   "source": [
    "def funcion_numeros(x):\n",
    "    \n",
    "    if x%2==0:\n",
    "      mensaje=\"es par\" \n",
    "    else:\n",
    "      mensaje=\"es impar\" \n",
    "\n",
    "    return mensaje \n",
    "\n",
    "funcion_numeros(20) "
   ]
  },
  {
   "cell_type": "markdown",
   "id": "marked-riverside",
   "metadata": {},
   "source": [
    "### Ejercicio 2 \n",
    "\n",
    "Escribe una función para leer dos números enteros y determina a cuánto es igual la suma de todos sus **dígitos.**\n",
    "\n",
    "Imprime el resultado."
   ]
  },
  {
   "cell_type": "code",
   "execution_count": 27,
   "id": "scenic-mistake",
   "metadata": {},
   "outputs": [
    {
     "data": {
      "text/plain": [
       "18"
      ]
     },
     "execution_count": 27,
     "metadata": {},
     "output_type": "execute_result"
    }
   ],
   "source": [
    "def funcion_ejercicio2 (numero1, numero2):\n",
    "    # Escribe tu código aquí. Manten la identación!!\n",
    "    \n",
    "    suma1= sum(int (i) for i in str(numero1))\n",
    "    suma2= sum(int (i) for i in str(numero2))\n",
    "    \n",
    "    sumatotal=(suma1+suma2)\n",
    "    return sumatotal \n",
    "\n",
    "funcion_ejercicio2 (32,49)"
   ]
  }
 ],
 "metadata": {
  "kernelspec": {
   "display_name": "Python 3",
   "language": "python",
   "name": "python3"
  },
  "language_info": {
   "codemirror_mode": {
    "name": "ipython",
    "version": 3
   },
   "file_extension": ".py",
   "mimetype": "text/x-python",
   "name": "python",
   "nbconvert_exporter": "python",
   "pygments_lexer": "ipython3",
   "version": "3.8.6"
  }
 },
 "nbformat": 4,
 "nbformat_minor": 5
}
