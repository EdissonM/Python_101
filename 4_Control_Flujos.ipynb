{
 "cells": [
  {
   "cell_type": "markdown",
   "id": "given-leather",
   "metadata": {},
   "source": [
    "#  CONTROL  DE FLUJOS\n"
   ]
  },
  {
   "cell_type": "markdown",
   "id": "tutorial-camera",
   "metadata": {},
   "source": [
    "### IF\n",
    "\n",
    "- Toma de decisión simple. Sólo si se cumple la condición dada, entonces, genera la acción deseada.\n",
    "- Con la siguiente estructura:\n",
    "\n",
    "if (condición1) entonces:\n",
    "\n",
    "    Acción1\n",
    "    \n",
    "Fin  "
   ]
  },
  {
   "cell_type": "code",
   "execution_count": 15,
   "id": "instrumental-monthly",
   "metadata": {},
   "outputs": [
    {
     "name": "stdout",
     "output_type": "stream",
     "text": [
      "'y' es mayor que 'x'\n"
     ]
    }
   ],
   "source": [
    "x = 53\n",
    "y = 400\n",
    "if y > x:\n",
    "  print(\"'y' es mayor que 'x'\")"
   ]
  },
  {
   "cell_type": "code",
   "execution_count": 29,
   "id": "palestinian-hurricane",
   "metadata": {
    "scrolled": true
   },
   "outputs": [
    {
     "name": "stdout",
     "output_type": "stream",
     "text": [
      "indique nota de estudiante: 3.3\n",
      "Aprueba curso\n"
     ]
    }
   ],
   "source": [
    "#algoritmo de aprobación de curso\n",
    "\n",
    "nota= float (input(\"indique nota de estudiante: \"))\n",
    "\n",
    "#si nota es mayor que 3.0 (condición)...\n",
    "if (nota>3.0):\n",
    "    \n",
    "  print(\"Aprueba curso\")\n"
   ]
  },
  {
   "cell_type": "markdown",
   "id": "reliable-yugoslavia",
   "metadata": {},
   "source": [
    "### ELSE \n",
    "- Toma de decisión doble. (De lo contrario...) ... todo lo que no esté afirmado por las condiciones anteriores. \n",
    "\n",
    "\n",
    "- Con la siguiente estructura:\n",
    "\n",
    "if (condición1) entonces:\n",
    "\n",
    "    Acción1\n",
    "else \n",
    "\n",
    "    Acción2    \n",
    "    \n",
    "Fin  "
   ]
  },
  {
   "cell_type": "code",
   "execution_count": 28,
   "id": "measured-essex",
   "metadata": {},
   "outputs": [
    {
     "name": "stdout",
     "output_type": "stream",
     "text": [
      "indique número de documento: 101993003033\n",
      "Puede salir los días martes, jueves, sábado y domingo\n"
     ]
    }
   ],
   "source": [
    "#algoritmo de pico y cédula\n",
    "\n",
    "x= int (input(\"indique número de documento: \"))\n",
    "\n",
    "#si x termina en par (condición)...\n",
    "if (x%2)==0:\n",
    "    \n",
    "  print(\"Puede salir los días lunes, miércoles, viernes y domingo\")\n",
    "#de lo contrario...\n",
    "\n",
    "else:\n",
    "\n",
    "  print(\"Puede salir los días martes, jueves, sábado y domingo\")"
   ]
  },
  {
   "cell_type": "code",
   "execution_count": 24,
   "id": "dressed-cartridge",
   "metadata": {},
   "outputs": [
    {
     "name": "stdout",
     "output_type": "stream",
     "text": [
      "conteste si ordenó la casa: si\n",
      "ponga su nota: 4.3\n",
      "Puede salir\n"
     ]
    }
   ],
   "source": [
    "#En este caso el joven puede salir a jugar, solo si ordenó la casa o sacó 5 en el examen.\n",
    "\n",
    "\n",
    "x= input(\"conteste si ordenó la casa: \").upper() #convierte a mayúsculas\n",
    "y= float (input(\"ponga su nota: \"))\n",
    "if x==\"SI\" or y==5:\n",
    "  print(\"Puede salir\")\n",
    "else:\n",
    "  print(\"no puede salir\")"
   ]
  },
  {
   "cell_type": "markdown",
   "id": "ethical-father",
   "metadata": {},
   "source": [
    "### ELIF  \n",
    "- Es la abreviatura de 'else if' ...\" si la condición anterior no es cierta, entonces pruebe esta siguiente condición\".\n",
    "\n",
    "- Con la siguiente estructura:\n",
    "\n",
    "if (condición1) entonces:\n",
    "\n",
    "    Acción 1\n",
    "elif (condición2) entonces: \n",
    "\n",
    "    Acción 2    \n",
    "    \n",
    "elif (condición n) entonces:\n",
    "    \n",
    "    Acción n\n",
    "    \n",
    "Fin  \n",
    "\n",
    "Ejemplos:\n"
   ]
  },
  {
   "cell_type": "code",
   "execution_count": 36,
   "id": "accessible-eugene",
   "metadata": {},
   "outputs": [
    {
     "name": "stdout",
     "output_type": "stream",
     "text": [
      "'x' y 'y' son iguales\n"
     ]
    }
   ],
   "source": [
    "x = 10\n",
    "y = 10\n",
    "if y > x:\n",
    "  print(\"'y' es mayor que 'x'\")\n",
    "elif x == y:\n",
    "  print(\"'x' y 'y' son iguales\")"
   ]
  },
  {
   "cell_type": "code",
   "execution_count": 40,
   "id": "ceramic-stretch",
   "metadata": {
    "scrolled": false
   },
   "outputs": [
    {
     "name": "stdout",
     "output_type": "stream",
     "text": [
      "'x' es mayor que 'y'\n"
     ]
    }
   ],
   "source": [
    "x = 30\n",
    "y = 10\n",
    "if y > x:\n",
    "  print(\"'y' es mayor que 'x'\")\n",
    "elif x == y:\n",
    "  print(\"'x' y 'y' son iguales\")\n",
    "else:\n",
    " print (\"'x' es mayor que 'y'\")"
   ]
  },
  {
   "cell_type": "markdown",
   "id": "nuclear-ideal",
   "metadata": {},
   "source": [
    "- Se pueden enlazar varias condiciones 'else if'..."
   ]
  },
  {
   "cell_type": "code",
   "execution_count": 30,
   "id": "international-watch",
   "metadata": {
    "scrolled": true
   },
   "outputs": [
    {
     "name": "stdout",
     "output_type": "stream",
     "text": [
      "Por favor ingresa un número: 0\n",
      "X es cero\n"
     ]
    }
   ],
   "source": [
    "#Algoritmo para determinar si el número ingresado es negativo, positivo o cero.\n",
    "\n",
    "x = int (input(\"Por favor ingresa un número: \"))\n",
    "\n",
    "if x < 0:\n",
    "    \n",
    "    print('X es Negativo')\n",
    "elif x > 0:\n",
    "    print('X es positivo')\n",
    "elif x == 0:\n",
    "    print('X es cero')"
   ]
  },
  {
   "cell_type": "markdown",
   "id": "studied-digest",
   "metadata": {},
   "source": [
    "### Ejercicio.\n",
    "\n",
    "La luz de un semáforo nos indica las siguientes opciones:\n",
    "\n",
    "- Verde = Siga\n",
    "- Amarillo = Precaución\n",
    "- Rojo = Pare\n",
    "\n",
    "\n",
    "Escriba un código para esta situación utilizando el condicional."
   ]
  },
  {
   "cell_type": "code",
   "execution_count": 55,
   "id": "durable-latex",
   "metadata": {},
   "outputs": [
    {
     "name": "stdout",
     "output_type": "stream",
     "text": [
      "Digite el color de la luzverde\n",
      "VERDE\n",
      "siga\n"
     ]
    }
   ],
   "source": [
    "luz = input(\"Digite el color de la luz\").upper()\n",
    "\n",
    "print(luz)\n",
    "if luz == \"VERDE\":\n",
    "    \n",
    "    print (\"siga\")\n",
    "\n",
    "elif luz == \"AMARILLO\":\n",
    "    print(\"precaucion\")\n",
    "else:\n",
    "    print(\"pare\")"
   ]
  },
  {
   "cell_type": "markdown",
   "id": "individual-coffee",
   "metadata": {},
   "source": [
    "### Ejercicio 2\n",
    "Utilice ahora condiciones anidadas. \n",
    "\n",
    "\n",
    "Si tenemos una variable booleana que nos indica si hay peaton o no, las condiciones cambian de esta forma:\n",
    "\n",
    "- Verde -------- Si hay peaton= Pare, Sino = Siga\n",
    "- Amarillo ----------- Si hay peaton =Pare, Sino= Precaución\n",
    "- Rojo = Pare"
   ]
  },
  {
   "cell_type": "code",
   "execution_count": 58,
   "id": "republican-reward",
   "metadata": {},
   "outputs": [
    {
     "name": "stdout",
     "output_type": "stream",
     "text": [
      "hay peatón?, indique:\n",
      "si o no: si\n",
      "Digite el color de la luzverde\n",
      "Pare\n"
     ]
    }
   ],
   "source": [
    "peaton= (input(\"\"\"hay peatón?, indique:\n",
    "si o no: \"\"\")).upper()\n",
    "\n",
    "#entrada luz\n",
    "luz= input(\"Digite el color de la luz\").upper()\n",
    "\n",
    "#entrada booleana si hay o no peatón.\n",
    "if peaton==\"SI\":\n",
    "  x=True\n",
    "else:\n",
    "  x=False\n",
    "if luz==\"VERDE\":\n",
    "  if not x:\n",
    "    print(\"Siga\") \n",
    "  else:\n",
    "    print(\"Pare\") \n",
    "elif luz==\"AMARILLO\":\n",
    "  if not x:\n",
    "    print(\"Precaucion\")\n",
    "  else:\n",
    "    print(\"Pare\")\n",
    "elif luz==\"ROJO\":\n",
    "    print(\"Pare\")"
   ]
  },
  {
   "cell_type": "markdown",
   "id": "damaged-exercise",
   "metadata": {},
   "source": [
    "### Ejercicio 3\n",
    "Si el mercado me cuesta hasta 100, pago con dinero en efectivo. \n",
    "Si me cuesta más que 100 pero menos de 300, pago con tarjeta de débito.\n",
    "De lo contrario, si me cuesta aún más pago con tarjeta de crédito.\n",
    "\n",
    "Escriba el código correspondiente, solicitando el valor de la compra para saber cómo procedo a pagar."
   ]
  },
  {
   "cell_type": "code",
   "execution_count": 68,
   "id": "boolean-accessory",
   "metadata": {},
   "outputs": [
    {
     "name": "stdout",
     "output_type": "stream",
     "text": [
      "Digite el valor de la compra: 340\n",
      "Pago con crédito\n"
     ]
    }
   ],
   "source": [
    "valor_compra= int (input(\"Digite el valor de la compra: \"))\n",
    "\n",
    "if valor_compra <= 100:\n",
    "    print (\"Pago con dinero en efectivo\")\n",
    "elif valor_compra > 100 and valor_compra < 300:\n",
    "    print (\"Pago con débito\")\n",
    "else:\n",
    "    print(\"Pago con crédito\")"
   ]
  },
  {
   "cell_type": "markdown",
   "id": "powered-compiler",
   "metadata": {},
   "source": [
    "# LOOPS (BUCLES)"
   ]
  },
  {
   "cell_type": "markdown",
   "id": "compound-phenomenon",
   "metadata": {},
   "source": [
    "### FOR\n",
    "\n",
    "- El bucle \"for\" se puede usar para iterar sobre una secuencia (lista, diccionario, cadena), en el orden en que aparezcan en la secuencia.\n",
    "\n",
    "Ejemplo:\n"
   ]
  },
  {
   "cell_type": "code",
   "execution_count": 78,
   "id": "sharing-crown",
   "metadata": {},
   "outputs": [
    {
     "name": "stdout",
     "output_type": "stream",
     "text": [
      "manzanas\n",
      "vegetales\n",
      "queso\n",
      "gaseosa\n",
      "servilletas\n"
     ]
    }
   ],
   "source": [
    "# Ver todos los elementos de la lista.\n",
    "\n",
    "comprar = [\"manzanas\", \"vegetales\", \"queso\", \"gaseosa\", \"servilletas\"]\n",
    "#for itera sobre la lista comprar e imprime cada uno de los elementos:\n",
    "\n",
    "for i in comprar:\n",
    "  print(i)"
   ]
  },
  {
   "cell_type": "code",
   "execution_count": 81,
   "id": "chubby-pharmaceutical",
   "metadata": {},
   "outputs": [
    {
     "name": "stdout",
     "output_type": "stream",
     "text": [
      "2\n",
      "34\n",
      "11\n",
      "87\n",
      "55\n",
      "23\n",
      "12\n",
      "23\n",
      "12\n",
      "66\n",
      "8\n",
      "3\n",
      "0\n",
      "1\n",
      "3\n",
      "5\n",
      "66\n"
     ]
    }
   ],
   "source": [
    "# Ver todos los elementos de una lista de números.\n",
    "\n",
    "valores = [2,34,11,87,55,23,12,23,12,66,8,3,0,1,3,5,66]\n",
    "#for itera sobre la lista comprar e imprime cada uno de los elementos:\n",
    "\n",
    "for i in valores:\n",
    "  print(i)"
   ]
  },
  {
   "cell_type": "markdown",
   "id": "collect-potato",
   "metadata": {},
   "source": [
    "- Incluso, como un string es una cadena iterable, podría usar un *for* para ver todas las letras del primer elemento de la lista "
   ]
  },
  {
   "cell_type": "code",
   "execution_count": 80,
   "id": "democratic-testimony",
   "metadata": {},
   "outputs": [
    {
     "name": "stdout",
     "output_type": "stream",
     "text": [
      "m\n",
      "a\n",
      "n\n",
      "z\n",
      "a\n",
      "n\n",
      "a\n",
      "s\n"
     ]
    }
   ],
   "source": [
    "for j in \"manzanas\":\n",
    "  print(j) "
   ]
  },
  {
   "cell_type": "markdown",
   "id": "serial-bunch",
   "metadata": {},
   "source": [
    "### WHILE \n",
    "\n",
    "- (mientras que...) \n",
    "Con while podremos ejecutar una serie de sentencias, siempre y cuando una condición se cumpla."
   ]
  },
  {
   "cell_type": "code",
   "execution_count": null,
   "id": "rational-church",
   "metadata": {},
   "outputs": [],
   "source": [
    "i = 1\n",
    "while i < 6:\n",
    "  print(i)\n",
    "  i += 1"
   ]
  },
  {
   "cell_type": "markdown",
   "id": "periodic-riverside",
   "metadata": {},
   "source": [
    "¿Por qué solo imprime hasta 5?\n",
    "¿Qué quiere decir i+=1? ¿Cuáles son otras formas de escribir esto?"
   ]
  },
  {
   "cell_type": "code",
   "execution_count": null,
   "id": "stone-budapest",
   "metadata": {},
   "outputs": [],
   "source": []
  },
  {
   "cell_type": "code",
   "execution_count": 74,
   "id": "initial-grace",
   "metadata": {},
   "outputs": [
    {
     "name": "stdout",
     "output_type": "stream",
     "text": [
      "digite numero3\n",
      "digite numero4\n",
      "digite numero1\n",
      "digite numero22\n",
      "digite numero54545\n",
      "digite numero1\n",
      "digite numero0\n",
      "La cantidad de numeros positivos es 6\n",
      "y la cantidad de negativos es 1\n"
     ]
    }
   ],
   "source": [
    "#Ejemplo.\n",
    "# dado un conjunto de numeros ingresado por teclado, determine, cuántos fueron positivos y cuántos, fueron negativos...\n",
    "# hasta que se ingrese el número 0.\n",
    "\n",
    "numero= \"\"\n",
    "pos=0\n",
    "neg=0\n",
    "while numero !=0:\n",
    "  numero= int (input (\"digite numero\"))\n",
    "  if numero>=1:\n",
    "    pos+= 1\n",
    "  else:\n",
    "    neg+= 1  \n",
    "    \n",
    "print(\"\"\"La cantidad de numeros positivos es {0}\n",
    "y la cantidad de negativos es {1}\"\"\".format(pos,neg))"
   ]
  },
  {
   "cell_type": "code",
   "execution_count": 73,
   "id": "southern-guidance",
   "metadata": {},
   "outputs": [
    {
     "name": "stdout",
     "output_type": "stream",
     "text": [
      "Digite la palabra: hola\n",
      "Digite la palabra: cualquier\n",
      "Digite la palabra: palabra\n",
      "Digite la palabra: salir\n"
     ]
    }
   ],
   "source": [
    "#Digitar cualquier palabra hasta que... escriba: salir.\n",
    "\n",
    "palabra = \" \"\n",
    "while palabra != \"Salir\":\n",
    "    palabra = input(\"Digite la palabra: \").capitalize()"
   ]
  },
  {
   "cell_type": "code",
   "execution_count": null,
   "id": "applied-brazilian",
   "metadata": {},
   "outputs": [],
   "source": []
  }
 ],
 "metadata": {
  "kernelspec": {
   "display_name": "Python 3",
   "language": "python",
   "name": "python3"
  },
  "language_info": {
   "codemirror_mode": {
    "name": "ipython",
    "version": 3
   },
   "file_extension": ".py",
   "mimetype": "text/x-python",
   "name": "python",
   "nbconvert_exporter": "python",
   "pygments_lexer": "ipython3",
   "version": "3.8.6"
  }
 },
 "nbformat": 4,
 "nbformat_minor": 5
}
