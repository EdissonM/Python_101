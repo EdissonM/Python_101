{
 "cells": [
  {
   "cell_type": "markdown",
   "id": "automotive-consultancy",
   "metadata": {},
   "source": [
    "# OPERADORES \n"
   ]
  },
  {
   "cell_type": "markdown",
   "id": "fixed-arrangement",
   "metadata": {},
   "source": [
    "## Operadores Aritméticos"
   ]
  },
  {
   "cell_type": "markdown",
   "id": "aggregate-decline",
   "metadata": {},
   "source": [
    "Los operadores aritméticos usados para realizar operaciones matemáticas comunes con variables tipo numérico."
   ]
  },
  {
   "cell_type": "markdown",
   "id": "funny-continuity",
   "metadata": {},
   "source": [
    "|Símbolo |  Significado | Ejemplo\n",
    "|  ----  |  ----  | ---- |\n",
    "|+  |Suma| x + y|\n",
    "|-  |Resta|x - y|\n",
    "|*  |  Multiplicación| x * y |\n",
    "|** |  Exponente| x ** y|\n",
    "|/  |  División| x / y |\n",
    "|// |  División entera| x // y |\n",
    "|%  | Módulo| x % y| \n",
    "\n",
    "Ejemplos:"
   ]
  },
  {
   "cell_type": "code",
   "execution_count": 39,
   "id": "under-congress",
   "metadata": {},
   "outputs": [
    {
     "name": "stdout",
     "output_type": "stream",
     "text": [
      "inserte valor de la compra2500\n",
      "el valor total es 2975.0\n"
     ]
    }
   ],
   "source": [
    "#Algoritmo para solicitar valor de una compra realizada y generar valor total teniendo en cuenta el valor de impuesto.\n",
    "\n",
    "valor_compra = float (input(\"inserte valor de la compra\"))\n",
    "valor_iva = (valor_compra * 19) / 100\n",
    "\n",
    "total = valor_compra + valor_iva\n",
    "print (\"el valor total es {0}\".format(total))"
   ]
  },
  {
   "cell_type": "code",
   "execution_count": 40,
   "id": "unknown-anxiety",
   "metadata": {},
   "outputs": [
    {
     "name": "stdout",
     "output_type": "stream",
     "text": [
      "17.5\n",
      "183.75\n"
     ]
    }
   ],
   "source": [
    "neto = 175\n",
    "tasa_interes = 10\n",
    "monto_interes = neto * tasa_interes / 100\n",
    "print (monto_interes)\n",
    "\n",
    "tasa_extra = 5\n",
    "importe_extra = neto * tasa_extra / 100\n",
    "monto_neto = (neto - importe_extra) + monto_interes\n",
    "\n",
    "print (monto_neto)"
   ]
  },
  {
   "cell_type": "markdown",
   "id": "transparent-avenue",
   "metadata": {},
   "source": [
    "## Operadores de Comparación"
   ]
  },
  {
   "cell_type": "markdown",
   "id": "dimensional-presence",
   "metadata": {},
   "source": [
    "|Operador | Relación |\n",
    "| ----- |----- |\n",
    "|x == y | Equal |\n",
    "|x != y  | Not equal|\n",
    "|x > y  |  Greater than|\n",
    "|x < y  |  Less than|\n",
    "|x >= y |  Greater than or equal to|\n",
    "|x <= y |  Less than or equal to|\n",
    "\n",
    "Ejemplo:"
   ]
  },
  {
   "cell_type": "code",
   "execution_count": 29,
   "id": "wooden-phoenix",
   "metadata": {},
   "outputs": [
    {
     "name": "stdout",
     "output_type": "stream",
     "text": [
      "valor1 > valor2 is False\n",
      "valor1 < valor2 is True\n",
      "valor1 == valor2 is False\n",
      "valor1 != valor2 is True\n",
      "valor1 >= valor2 is False\n",
      "valor1 <= valor2 is True\n"
     ]
    }
   ],
   "source": [
    "valor1 = 20\n",
    "valor2 = 130\n",
    "\n",
    "\n",
    "print('valor1 > valor2 is',valor1>valor2)\n",
    "\n",
    "\n",
    "print('valor1 < valor2 is',valor1<valor2)\n",
    "\n",
    "\n",
    "print('valor1 == valor2 is',valor1==valor2)\n",
    "\n",
    "\n",
    "print('valor1 != valor2 is',valor1!=valor2)\n",
    "\n",
    "\n",
    "print('valor1 >= valor2 is',valor1>=valor2)\n",
    "\n",
    "\n",
    "print('valor1 <= valor2 is',valor1<=valor2)"
   ]
  },
  {
   "cell_type": "code",
   "execution_count": 37,
   "id": "minimal-bulletin",
   "metadata": {},
   "outputs": [
    {
     "name": "stdout",
     "output_type": "stream",
     "text": [
      "Empresa reprobada\n"
     ]
    }
   ],
   "source": [
    "ganancia_neta = 24400000\n",
    "\n",
    "if ganancia_neta >= 25000000:\n",
    "    print (\"Empresa aprobada\")\n",
    "else:\n",
    "    print (\"Empresa reprobada\")"
   ]
  },
  {
   "cell_type": "markdown",
   "id": "sufficient-cloud",
   "metadata": {},
   "source": [
    "## Operadores Lógicos"
   ]
  },
  {
   "cell_type": "markdown",
   "id": "executed-budget",
   "metadata": {},
   "source": [
    "Debemos entender como manejar los operadores lógicos (y/o) en Python para poder evaluar múltiples expresiones al tiempo.\n",
    "En Python, los operadores lógicos son las palabras en inglés: and y or. \n",
    "Estos operadores nos permiten analizar múltiples expresiones.\n",
    "\n",
    "\n",
    "|P\t |Q\t   | P And Q\t|  P Or Q|\n",
    "|----|---  |--------  |--------|\n",
    "|V| V\t| V\t  |      V|\n",
    "|V|\tF   | F\t  |      V|\n",
    "|F| V\t| F\t  |      V|\n",
    "|F| F  \t| F\t  |      F|\n"
   ]
  },
  {
   "cell_type": "code",
   "execution_count": 1,
   "id": "wanted-killer",
   "metadata": {},
   "outputs": [
    {
     "name": "stdout",
     "output_type": "stream",
     "text": [
      "True True\n",
      "False True\n",
      "False True\n",
      "False False\n"
     ]
    }
   ],
   "source": [
    "print((True and True),(True or True))\n",
    "print((True and False),(True or False))\n",
    "print((False and True), (False or True))\n",
    "print((False and False),(False or False))"
   ]
  },
  {
   "cell_type": "code",
   "execution_count": 32,
   "id": "informative-aside",
   "metadata": {},
   "outputs": [
    {
     "name": "stdout",
     "output_type": "stream",
     "text": [
      "ingrese valor de a3\n",
      "ingrese valor de b1\n",
      "3\n",
      "3\n"
     ]
    }
   ],
   "source": [
    "#Ejercicio:\n",
    "\n",
    "a= int (input(\"ingrese valor de a\"))\n",
    "b= int (input(\"ingrese valor de b\"))\n",
    "if a>2:\n",
    "  print(a)\n",
    "if b<4:\n",
    "  print(a)"
   ]
  },
  {
   "cell_type": "markdown",
   "id": "dependent-elder",
   "metadata": {},
   "source": [
    "Dado que ambos condicionales imprimen a. Podríamos modificar el código para tener un sólo condicional usando los operadores lógicos?"
   ]
  },
  {
   "cell_type": "code",
   "execution_count": 33,
   "id": "early-mexican",
   "metadata": {},
   "outputs": [
    {
     "name": "stdout",
     "output_type": "stream",
     "text": [
      "ingrese valor de a3\n",
      "ingrese valor de b1\n",
      "3\n"
     ]
    }
   ],
   "source": [
    "a= int (input(\"ingrese valor de a\"))\n",
    "b= int (input(\"ingrese valor de b\"))\n",
    "if a>2 and b<4:\n",
    "  print(a)"
   ]
  },
  {
   "cell_type": "markdown",
   "id": "identical-concert",
   "metadata": {},
   "source": [
    "### Actividad - Operadores Lógicos\n",
    "\n",
    "Mario y Andrés son hermanos, hijos de Don Pablo, y quienes tienen acceso a la herencia. \n",
    "Su padre, Don Pablo en su testamento especifica lo siguiente para que puedan acceder a la herencia.\n",
    "\n",
    "Las condiciones son las siguientes:\n",
    "\n",
    "\n",
    "1. Mario debe ser mayor de 35 años, o Andrés debe ser menor de 50 años.\n",
    "2. La suma de sus edades debe ser un número par.\n",
    "3. Don Pablo debe tener mínimo 1 nieto.\n",
    "\n",
    "Construye un algoritmo que lea la edad de Mario, la edad de Andrés y el número de nietos y calcule, usando condicionales, si tienen acceso (SI) o no (NO) a la herencia."
   ]
  },
  {
   "cell_type": "code",
   "execution_count": 28,
   "id": "medical-enlargement",
   "metadata": {},
   "outputs": [
    {
     "data": {
      "text/plain": [
       "'NO'"
      ]
     },
     "execution_count": 28,
     "metadata": {},
     "output_type": "execute_result"
    }
   ],
   "source": [
    "def actividad(edadMario, edadAndres, nietos):\n",
    "    if (edadMario>35 or edadAndres<50) and (edadMario+edadAndres)%2==0 and nietos>=1:\n",
    "      mensaje=\"SI\"\n",
    "    else:\n",
    "      mensaje=\"NO\"   \n",
    "    return mensaje\n",
    "\n",
    "actividad(36, 45, 2)"
   ]
  }
 ],
 "metadata": {
  "kernelspec": {
   "display_name": "Python 3",
   "language": "python",
   "name": "python3"
  },
  "language_info": {
   "codemirror_mode": {
    "name": "ipython",
    "version": 3
   },
   "file_extension": ".py",
   "mimetype": "text/x-python",
   "name": "python",
   "nbconvert_exporter": "python",
   "pygments_lexer": "ipython3",
   "version": "3.8.6"
  }
 },
 "nbformat": 4,
 "nbformat_minor": 5
}
